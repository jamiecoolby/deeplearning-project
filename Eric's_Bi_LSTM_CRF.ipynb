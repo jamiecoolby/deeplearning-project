{
  "nbformat": 4,
  "nbformat_minor": 0,
  "metadata": {
    "colab": {
      "provenance": [],
      "include_colab_link": true
    },
    "kernelspec": {
      "name": "python3",
      "display_name": "Python 3"
    },
    "language_info": {
      "name": "python"
    }
  },
  "cells": [
    {
      "cell_type": "markdown",
      "metadata": {
        "id": "view-in-github",
        "colab_type": "text"
      },
      "source": [
        "<a href=\"https://colab.research.google.com/github/jamiecoolby/deeplearning-project/blob/main/Eric's_Bi_LSTM_CRF.ipynb\" target=\"_parent\"><img src=\"https://colab.research.google.com/assets/colab-badge.svg\" alt=\"Open In Colab\"/></a>"
      ]
    },
    {
      "cell_type": "markdown",
      "source": [
        "# Model"
      ],
      "metadata": {
        "id": "mxWnhc6KyTz5"
      }
    },
    {
      "cell_type": "code",
      "execution_count": null,
      "metadata": {
        "colab": {
          "base_uri": "https://localhost:8080/"
        },
        "id": "0wAqMmUnvcwm",
        "outputId": "a2eb7ec8-f6cc-4621-9c2a-6748f2b92c81"
      },
      "outputs": [
        {
          "output_type": "execute_result",
          "data": {
            "text/plain": [
              "<torch._C.Generator at 0x7ef8b73b88f0>"
            ]
          },
          "metadata": {},
          "execution_count": 6
        }
      ],
      "source": [
        "import torch\n",
        "import torch.autograd as autograd\n",
        "import torch.nn as nn\n",
        "import torch.optim as optim\n",
        "\n",
        "torch.manual_seed(1)"
      ]
    },
    {
      "cell_type": "code",
      "source": [
        "def argmax(vec):\n",
        "    # return the argmax as a python int\n",
        "    _, idx = torch.max(vec, 1)\n",
        "    return idx.item()\n",
        "\n",
        "\n",
        "def prepare_sequence(seq, to_ix):\n",
        "    idxs = [to_ix[w] for w in seq]\n",
        "    return torch.tensor(idxs, dtype=torch.long)\n",
        "\n",
        "\n",
        "# Compute log sum exp in a numerically stable way for the forward algorithm\n",
        "def log_sum_exp(vec):\n",
        "    max_score = vec[0, argmax(vec)]\n",
        "    max_score_broadcast = max_score.view(1, -1).expand(1, vec.size()[1])\n",
        "    return max_score + \\\n",
        "        torch.log(torch.sum(torch.exp(vec - max_score_broadcast)))"
      ],
      "metadata": {
        "id": "wxqezXQQvnHh"
      },
      "execution_count": null,
      "outputs": []
    },
    {
      "cell_type": "code",
      "source": [
        "class BiLSTM_CRF(nn.Module):\n",
        "\n",
        "    def __init__(self, vocab_size, tag_to_ix, embedding_dim, hidden_dim):\n",
        "        super(BiLSTM_CRF, self).__init__()\n",
        "        self.embedding_dim = embedding_dim\n",
        "        self.hidden_dim = hidden_dim\n",
        "        self.vocab_size = vocab_size\n",
        "        self.tag_to_ix = tag_to_ix\n",
        "        self.tagset_size = len(tag_to_ix)\n",
        "\n",
        "        self.word_embeds = nn.Embedding(vocab_size, embedding_dim)\n",
        "        self.lstm = nn.LSTM(embedding_dim, hidden_dim // 2,\n",
        "                            num_layers=1, bidirectional=True)\n",
        "\n",
        "        # Maps the output of the LSTM into tag space.\n",
        "        self.hidden2tag = nn.Linear(hidden_dim, self.tagset_size)\n",
        "\n",
        "        # Matrix of transition parameters.  Entry i,j is the score of\n",
        "        # transitioning *to* i *from* j.\n",
        "        self.transitions = nn.Parameter(\n",
        "            torch.randn(self.tagset_size, self.tagset_size))\n",
        "\n",
        "        # These two statements enforce the constraint that we never transfer\n",
        "        # to the start tag and we never transfer from the stop tag\n",
        "        self.transitions.data[tag_to_ix[START_TAG], :] = -10000\n",
        "        self.transitions.data[:, tag_to_ix[STOP_TAG]] = -10000\n",
        "\n",
        "        self.hidden = self.init_hidden()\n",
        "\n",
        "    def init_hidden(self):\n",
        "        return (torch.randn(2, 1, self.hidden_dim // 2),\n",
        "                torch.randn(2, 1, self.hidden_dim // 2))\n",
        "\n",
        "    def _forward_alg(self, feats):\n",
        "        # Do the forward algorithm to compute the partition function\n",
        "        init_alphas = torch.full((1, self.tagset_size), -10000.)\n",
        "        # START_TAG has all of the score.\n",
        "        init_alphas[0][self.tag_to_ix[START_TAG]] = 0.\n",
        "\n",
        "        # Wrap in a variable so that we will get automatic backprop\n",
        "        forward_var = init_alphas\n",
        "\n",
        "        # Iterate through the sentence\n",
        "        for feat in feats:\n",
        "            alphas_t = []  # The forward tensors at this timestep\n",
        "            for next_tag in range(self.tagset_size):\n",
        "                # broadcast the emission score: it is the same regardless of\n",
        "                # the previous tag\n",
        "                emit_score = feat[next_tag].view(\n",
        "                    1, -1).expand(1, self.tagset_size)\n",
        "                # the ith entry of trans_score is the score of transitioning to\n",
        "                # next_tag from i\n",
        "                trans_score = self.transitions[next_tag].view(1, -1)\n",
        "                # The ith entry of next_tag_var is the value for the\n",
        "                # edge (i -> next_tag) before we do log-sum-exp\n",
        "                next_tag_var = forward_var + trans_score + emit_score\n",
        "                # The forward variable for this tag is log-sum-exp of all the\n",
        "                # scores.\n",
        "                alphas_t.append(log_sum_exp(next_tag_var).view(1))\n",
        "            forward_var = torch.cat(alphas_t).view(1, -1)\n",
        "        terminal_var = forward_var + self.transitions[self.tag_to_ix[STOP_TAG]]\n",
        "        alpha = log_sum_exp(terminal_var)\n",
        "        return alpha\n",
        "\n",
        "    def _get_lstm_features(self, sentence):\n",
        "        self.hidden = self.init_hidden()\n",
        "        embeds = self.word_embeds(sentence).view(len(sentence), 1, -1)\n",
        "        lstm_out, self.hidden = self.lstm(embeds, self.hidden)\n",
        "        lstm_out = lstm_out.view(len(sentence), self.hidden_dim)\n",
        "        lstm_feats = self.hidden2tag(lstm_out)\n",
        "        return lstm_feats\n",
        "\n",
        "    def _score_sentence(self, feats, tags):\n",
        "        # Gives the score of a provided tag sequence\n",
        "        score = torch.zeros(1)\n",
        "        tags = torch.cat([torch.tensor([self.tag_to_ix[START_TAG]], dtype=torch.long), tags])\n",
        "        for i, feat in enumerate(feats):\n",
        "            score = score + \\\n",
        "                self.transitions[tags[i + 1], tags[i]] + feat[tags[i + 1]]\n",
        "        score = score + self.transitions[self.tag_to_ix[STOP_TAG], tags[-1]]\n",
        "        return score\n",
        "\n",
        "    def _viterbi_decode(self, feats):\n",
        "        backpointers = []\n",
        "\n",
        "        # Initialize the viterbi variables in log space\n",
        "        init_vvars = torch.full((1, self.tagset_size), -10000.)\n",
        "        init_vvars[0][self.tag_to_ix[START_TAG]] = 0\n",
        "\n",
        "        # forward_var at step i holds the viterbi variables for step i-1\n",
        "        forward_var = init_vvars\n",
        "        for feat in feats:\n",
        "            bptrs_t = []  # holds the backpointers for this step\n",
        "            viterbivars_t = []  # holds the viterbi variables for this step\n",
        "\n",
        "            for next_tag in range(self.tagset_size):\n",
        "                # next_tag_var[i] holds the viterbi variable for tag i at the\n",
        "                # previous step, plus the score of transitioning\n",
        "                # from tag i to next_tag.\n",
        "                # We don't include the emission scores here because the max\n",
        "                # does not depend on them (we add them in below)\n",
        "                next_tag_var = forward_var + self.transitions[next_tag]\n",
        "                best_tag_id = argmax(next_tag_var)\n",
        "                bptrs_t.append(best_tag_id)\n",
        "                viterbivars_t.append(next_tag_var[0][best_tag_id].view(1))\n",
        "            # Now add in the emission scores, and assign forward_var to the set\n",
        "            # of viterbi variables we just computed\n",
        "            forward_var = (torch.cat(viterbivars_t) + feat).view(1, -1)\n",
        "            backpointers.append(bptrs_t)\n",
        "\n",
        "        # Transition to STOP_TAG\n",
        "        terminal_var = forward_var + self.transitions[self.tag_to_ix[STOP_TAG]]\n",
        "        best_tag_id = argmax(terminal_var)\n",
        "        path_score = terminal_var[0][best_tag_id]\n",
        "\n",
        "        # Follow the back pointers to decode the best path.\n",
        "        best_path = [best_tag_id]\n",
        "        for bptrs_t in reversed(backpointers):\n",
        "            best_tag_id = bptrs_t[best_tag_id]\n",
        "            best_path.append(best_tag_id)\n",
        "        # Pop off the start tag (we dont want to return that to the caller)\n",
        "        start = best_path.pop()\n",
        "        assert start == self.tag_to_ix[START_TAG]  # Sanity check\n",
        "        best_path.reverse()\n",
        "        return path_score, best_path\n",
        "\n",
        "    def neg_log_likelihood(self, sentence, tags):\n",
        "        feats = self._get_lstm_features(sentence)\n",
        "        forward_score = self._forward_alg(feats)\n",
        "        gold_score = self._score_sentence(feats, tags)\n",
        "        return forward_score - gold_score\n",
        "\n",
        "    def forward(self, sentence):  # dont confuse this with _forward_alg above.\n",
        "        # Get the emission scores from the BiLSTM\n",
        "        lstm_feats = self._get_lstm_features(sentence)\n",
        "\n",
        "        # Find the best path, given the features.\n",
        "        score, tag_seq = self._viterbi_decode(lstm_feats)\n",
        "        return score, tag_seq"
      ],
      "metadata": {
        "id": "dVsIyo2Uvn1c"
      },
      "execution_count": null,
      "outputs": []
    },
    {
      "cell_type": "markdown",
      "source": [
        "# Data"
      ],
      "metadata": {
        "id": "jljVFej1yW5n"
      }
    },
    {
      "cell_type": "code",
      "source": [
        "import json\n",
        "\n",
        "def load_data_from_json(json_data):\n",
        "    processed_data = []\n",
        "    for item in json_data:\n",
        "        sentence = item[\"sentence\"]\n",
        "        tokens = [token[\"word\"] for token in item[\"tokens\"]]\n",
        "        tags = [token[\"pos\"] for token in item[\"tokens\"]]\n",
        "        processed_data.append((tokens, tags))\n",
        "    return processed_data\n",
        "\n",
        "with open(\"output-train.json\", \"r\", encoding=\"utf-8\") as f:\n",
        "    train_json = json.load(f)\n",
        "\n",
        "with open(\"output-val.json\", \"r\", encoding=\"utf-8\") as f:\n",
        "    val_json = json.load(f)\n",
        "\n",
        "with open(\"output-test.json\", \"r\", encoding=\"utf-8\") as f:\n",
        "    test_json = json.load(f)\n",
        "\n",
        "train_data = load_data_from_json(train_json)\n",
        "val_data = load_data_from_json(val_json)\n",
        "test_data = load_data_from_json(test_json)"
      ],
      "metadata": {
        "id": "4kb6tf7s-OGt"
      },
      "execution_count": null,
      "outputs": []
    },
    {
      "cell_type": "code",
      "source": [
        "word_to_ix = {}\n",
        "tag_to_ix = {}\n",
        "\n",
        "for sentence, tags in train_data + val_data + test_data:\n",
        "    for word in sentence:\n",
        "        if word not in word_to_ix:\n",
        "            word_to_ix[word] = len(word_to_ix)\n",
        "    for tag in tags:\n",
        "        if tag not in tag_to_ix:\n",
        "            tag_to_ix[tag] = len(tag_to_ix)\n",
        "\n",
        "START_TAG = \"<START>\"\n",
        "STOP_TAG = \"<STOP>\"\n",
        "tag_to_ix[START_TAG] = len(tag_to_ix)\n",
        "tag_to_ix[STOP_TAG] = len(tag_to_ix)\n",
        "\n",
        "word_to_ix[\"<UNK>\"] = len(word_to_ix)\n"
      ],
      "metadata": {
        "id": "zZ6jpl6qBDlC"
      },
      "execution_count": null,
      "outputs": []
    },
    {
      "cell_type": "markdown",
      "source": [
        "# Train"
      ],
      "metadata": {
        "id": "M62Vr3SeyZCz"
      }
    },
    {
      "cell_type": "code",
      "source": [
        "import matplotlib.pyplot as plt\n",
        "from tqdm import tqdm\n",
        "import time\n",
        "\n",
        "EMBEDDING_DIM = 50 ### 可调\n",
        "HIDDEN_DIM = 40 ### 可调\n",
        "\n",
        "model = BiLSTM_CRF(len(word_to_ix), tag_to_ix, EMBEDDING_DIM, HIDDEN_DIM)\n",
        "##optimizer = optim.SGD(model.parameters(), lr=0.01, weight_decay=1e-4) ### 可调\n",
        "optimizer = optim.Adam(model.parameters(), lr=0.001, weight_decay=1e-5)\n",
        "\n",
        "epochs = 15 ### 可调\n",
        "train_losses = []\n",
        "val_losses = []\n",
        "\n",
        "start_time = time.time()\n",
        "\n",
        "for epoch in range(epochs):\n",
        "    print(f\"Epoch {epoch + 1}/{epochs}\")\n",
        "\n",
        "    model.train()\n",
        "    total_train_loss = 0\n",
        "    for sentence, tags in tqdm(train_data, desc=\"Training\"):\n",
        "        model.zero_grad()\n",
        "        sentence_in = prepare_sequence(sentence, word_to_ix)\n",
        "        targets = torch.tensor([tag_to_ix[t] for t in tags], dtype=torch.long)\n",
        "\n",
        "        loss = model.neg_log_likelihood(sentence_in, targets)\n",
        "        total_train_loss += loss.item()\n",
        "        loss.backward()\n",
        "        optimizer.step()\n",
        "\n",
        "    avg_train_loss = total_train_loss / len(train_data)\n",
        "    train_losses.append(avg_train_loss)\n",
        "\n",
        "    model.eval()\n",
        "    total_val_loss = 0\n",
        "    with torch.no_grad():\n",
        "        for sentence, tags in tqdm(val_data, desc=\"Validating\"):\n",
        "            sentence_in = prepare_sequence(sentence, word_to_ix)\n",
        "            targets = torch.tensor([tag_to_ix[t] for t in tags], dtype=torch.long)\n",
        "\n",
        "            val_loss = model.neg_log_likelihood(sentence_in, targets)\n",
        "            total_val_loss += val_loss.item()\n",
        "\n",
        "    avg_val_loss = total_val_loss / len(val_data)\n",
        "    val_losses.append(avg_val_loss)\n",
        "\n",
        "    print(f\"Epoch {epoch + 1}/{epochs} - Training Loss: {avg_train_loss:.4f}, Validation Loss: {avg_val_loss:.4f}\")\n",
        "\n",
        "end_time = time.time()\n",
        "total_time = end_time - start_time\n",
        "print(f\"Total Training Time: {total_time:.2f} seconds\")\n",
        "\n",
        "plt.figure(figsize=(10, 6))\n",
        "plt.plot(range(1, epochs + 1), train_losses, label=\"Training Loss\")\n",
        "plt.plot(range(1, epochs + 1), val_losses, label=\"Validation Loss\")\n",
        "plt.xlabel(\"Epoch\")\n",
        "plt.ylabel(\"Loss\")\n",
        "plt.title(\"Training and Validation Loss Over Epochs\")\n",
        "plt.legend()\n",
        "\n",
        "plt.grid()\n",
        "plt.show()\n"
      ],
      "metadata": {
        "id": "kaZkOndlUkVR",
        "colab": {
          "base_uri": "https://localhost:8080/"
        },
        "outputId": "a4f1dff8-b2a2-4802-a1f2-6e41c8b95567"
      },
      "execution_count": null,
      "outputs": [
        {
          "metadata": {
            "tags": null
          },
          "name": "stdout",
          "output_type": "stream",
          "text": [
            "Epoch 1/15\n"
          ]
        },
        {
          "metadata": {
            "tags": null
          },
          "name": "stderr",
          "output_type": "stream",
          "text": [
            "Training: 100%|██████████| 7481/7481 [20:55<00:00,  5.96it/s]\n",
            "Validating: 100%|██████████| 538/538 [00:22<00:00, 23.87it/s]\n"
          ]
        },
        {
          "metadata": {
            "tags": null
          },
          "name": "stdout",
          "output_type": "stream",
          "text": [
            "Epoch 1/15 - Training Loss: 9.2291, Validation Loss: 3.8187\n",
            "Epoch 2/15\n"
          ]
        },
        {
          "metadata": {
            "tags": null
          },
          "name": "stderr",
          "output_type": "stream",
          "text": [
            "Training: 100%|██████████| 7481/7481 [20:20<00:00,  6.13it/s]\n",
            "Validating: 100%|██████████| 538/538 [00:21<00:00, 24.77it/s]\n"
          ]
        },
        {
          "metadata": {
            "tags": null
          },
          "name": "stdout",
          "output_type": "stream",
          "text": [
            "Epoch 2/15 - Training Loss: 2.3953, Validation Loss: 2.2668\n",
            "Epoch 3/15\n"
          ]
        },
        {
          "metadata": {
            "tags": null
          },
          "name": "stderr",
          "output_type": "stream",
          "text": [
            "Training: 100%|██████████| 7481/7481 [20:15<00:00,  6.16it/s]\n",
            "Validating: 100%|██████████| 538/538 [00:22<00:00, 23.87it/s]\n"
          ]
        },
        {
          "metadata": {
            "tags": null
          },
          "name": "stdout",
          "output_type": "stream",
          "text": [
            "Epoch 3/15 - Training Loss: 1.1891, Validation Loss: 1.7617\n",
            "Epoch 4/15\n"
          ]
        },
        {
          "metadata": {
            "tags": null
          },
          "name": "stderr",
          "output_type": "stream",
          "text": [
            "Training: 100%|██████████| 7481/7481 [20:04<00:00,  6.21it/s]\n",
            "Validating: 100%|██████████| 538/538 [00:22<00:00, 24.25it/s]\n"
          ]
        },
        {
          "metadata": {
            "tags": null
          },
          "name": "stdout",
          "output_type": "stream",
          "text": [
            "Epoch 4/15 - Training Loss: 0.6736, Validation Loss: 1.6555\n",
            "Epoch 5/15\n"
          ]
        },
        {
          "metadata": {
            "tags": null
          },
          "name": "stderr",
          "output_type": "stream",
          "text": [
            "Training: 100%|██████████| 7481/7481 [20:08<00:00,  6.19it/s]\n",
            "Validating: 100%|██████████| 538/538 [00:22<00:00, 23.44it/s]\n"
          ]
        },
        {
          "metadata": {
            "tags": null
          },
          "name": "stdout",
          "output_type": "stream",
          "text": [
            "Epoch 5/15 - Training Loss: 0.4186, Validation Loss: 1.6940\n",
            "Epoch 6/15\n"
          ]
        },
        {
          "metadata": {
            "tags": null
          },
          "name": "stderr",
          "output_type": "stream",
          "text": [
            "Training: 100%|██████████| 7481/7481 [20:37<00:00,  6.05it/s]\n",
            "Validating: 100%|██████████| 538/538 [00:22<00:00, 23.55it/s]\n"
          ]
        },
        {
          "metadata": {
            "tags": null
          },
          "name": "stdout",
          "output_type": "stream",
          "text": [
            "Epoch 6/15 - Training Loss: 0.3097, Validation Loss: 1.7789\n",
            "Epoch 7/15\n"
          ]
        },
        {
          "metadata": {
            "tags": null
          },
          "name": "stderr",
          "output_type": "stream",
          "text": [
            "Training: 100%|██████████| 7481/7481 [20:15<00:00,  6.16it/s]\n",
            "Validating: 100%|██████████| 538/538 [00:21<00:00, 24.98it/s]\n"
          ]
        },
        {
          "metadata": {
            "tags": null
          },
          "name": "stdout",
          "output_type": "stream",
          "text": [
            "Epoch 7/15 - Training Loss: 0.2609, Validation Loss: 1.6834\n",
            "Epoch 8/15\n"
          ]
        },
        {
          "metadata": {
            "tags": null
          },
          "name": "stderr",
          "output_type": "stream",
          "text": [
            "Training: 100%|██████████| 7481/7481 [20:14<00:00,  6.16it/s]\n",
            "Validating: 100%|██████████| 538/538 [00:22<00:00, 23.59it/s]\n"
          ]
        },
        {
          "metadata": {
            "tags": null
          },
          "name": "stdout",
          "output_type": "stream",
          "text": [
            "Epoch 8/15 - Training Loss: 0.2424, Validation Loss: 1.7508\n",
            "Epoch 9/15\n"
          ]
        },
        {
          "metadata": {
            "tags": null
          },
          "name": "stderr",
          "output_type": "stream",
          "text": [
            "Training: 100%|██████████| 7481/7481 [20:20<00:00,  6.13it/s]\n",
            "Validating: 100%|██████████| 538/538 [00:22<00:00, 23.99it/s]\n"
          ]
        },
        {
          "metadata": {
            "tags": null
          },
          "name": "stdout",
          "output_type": "stream",
          "text": [
            "Epoch 9/15 - Training Loss: 0.2198, Validation Loss: 1.6958\n",
            "Epoch 10/15\n"
          ]
        },
        {
          "metadata": {
            "tags": null
          },
          "name": "stderr",
          "output_type": "stream",
          "text": [
            "Training: 100%|██████████| 7481/7481 [20:18<00:00,  6.14it/s]\n",
            "Validating: 100%|██████████| 538/538 [00:22<00:00, 23.46it/s]\n"
          ]
        },
        {
          "metadata": {
            "tags": null
          },
          "name": "stdout",
          "output_type": "stream",
          "text": [
            "Epoch 10/15 - Training Loss: 0.2137, Validation Loss: 1.7889\n",
            "Epoch 11/15\n"
          ]
        },
        {
          "metadata": {
            "tags": null
          },
          "name": "stderr",
          "output_type": "stream",
          "text": [
            "Training: 100%|██████████| 7481/7481 [20:16<00:00,  6.15it/s]\n",
            "Validating: 100%|██████████| 538/538 [00:21<00:00, 24.83it/s]\n"
          ]
        },
        {
          "metadata": {
            "tags": null
          },
          "name": "stdout",
          "output_type": "stream",
          "text": [
            "Epoch 11/15 - Training Loss: 0.2059, Validation Loss: 1.8244\n",
            "Epoch 12/15\n"
          ]
        },
        {
          "metadata": {
            "tags": null
          },
          "name": "stderr",
          "output_type": "stream",
          "text": [
            "Training: 100%|██████████| 7481/7481 [20:04<00:00,  6.21it/s]\n",
            "Validating: 100%|██████████| 538/538 [00:21<00:00, 24.65it/s]\n"
          ]
        },
        {
          "metadata": {
            "tags": null
          },
          "name": "stdout",
          "output_type": "stream",
          "text": [
            "Epoch 12/15 - Training Loss: 0.1909, Validation Loss: 1.8053\n",
            "Epoch 13/15\n"
          ]
        },
        {
          "output_type": "stream",
          "name": "stderr",
          "text": [
            "Training: 100%|██████████| 7481/7481 [20:12<00:00,  6.17it/s]\n",
            "Validating: 100%|██████████| 538/538 [00:23<00:00, 23.31it/s]\n"
          ]
        },
        {
          "output_type": "stream",
          "name": "stdout",
          "text": [
            "Epoch 13/15 - Training Loss: 0.1937, Validation Loss: 1.8320\n",
            "Epoch 14/15\n"
          ]
        },
        {
          "output_type": "stream",
          "name": "stderr",
          "text": [
            "Training: 100%|██████████| 7481/7481 [20:38<00:00,  6.04it/s]\n",
            "Validating: 100%|██████████| 538/538 [00:23<00:00, 23.33it/s]\n"
          ]
        },
        {
          "output_type": "stream",
          "name": "stdout",
          "text": [
            "Epoch 14/15 - Training Loss: 0.1902, Validation Loss: 1.7818\n",
            "Epoch 15/15\n"
          ]
        },
        {
          "output_type": "stream",
          "name": "stderr",
          "text": [
            "Training:  99%|█████████▊| 7387/7481 [20:19<00:19,  4.87it/s]"
          ]
        }
      ]
    },
    {
      "cell_type": "markdown",
      "source": [
        "# Evaluate"
      ],
      "metadata": {
        "id": "22YAHhRZycO1"
      }
    },
    {
      "cell_type": "code",
      "source": [
        "model.eval()\n",
        "test_results = []\n",
        "with torch.no_grad():\n",
        "    for sentence, tags in test_data:\n",
        "        sentence_in = prepare_sequence(sentence, word_to_ix)\n",
        "        targets = torch.tensor([tag_to_ix[t] for t in tags], dtype=torch.long)\n",
        "\n",
        "        _, predictions = model(sentence_in)\n",
        "\n",
        "        test_results.append((predictions, targets.tolist()))\n",
        "\n",
        "for i, (pred, true) in enumerate(test_results[:10]):\n",
        "    print(f\"Sample {i + 1}:\")\n",
        "    print(f\"Predicted Tags: {pred}\")\n",
        "    print(f\"True Tags:      {true}\")\n",
        "    print()\n"
      ],
      "metadata": {
        "id": "AZRIPTXiHoAw",
        "outputId": "238def37-d32c-422c-8e42-e86670ff22bb",
        "colab": {
          "base_uri": "https://localhost:8080/"
        }
      },
      "execution_count": null,
      "outputs": [
        {
          "output_type": "stream",
          "name": "stdout",
          "text": [
            "Sample 1:\n",
            "Predicted Tags: [11, 1, 0, 0, 1, 0, 0, 1, 2, 3, 3, 1, 10, 0, 10, 0, 1, 0, 1, 0, 1, 0, 1, 2, 1, 2, 0, 1, 2, 3, 9, 3, 4]\n",
            "True Tags:      [11, 1, 0, 0, 1, 2, 0, 1, 2, 3, 3, 1, 10, 0, 10, 2, 1, 0, 1, 0, 1, 0, 1, 2, 1, 2, 0, 1, 2, 3, 9, 3, 4]\n",
            "\n",
            "Sample 2:\n",
            "Predicted Tags: [0, 1, 0, 0, 1, 1, 10, 12, 0, 2, 1, 0, 1, 2, 0, 1, 2, 1, 2, 3, 3, 4]\n",
            "True Tags:      [0, 1, 0, 0, 1, 1, 10, 12, 12, 2, 1, 13, 1, 2, 0, 1, 2, 1, 2, 3, 3, 4]\n",
            "\n",
            "Sample 3:\n",
            "Predicted Tags: [0, 0, 1, 0, 1, 2, 3, 10, 8, 0, 1, 0, 0, 2, 3, 4]\n",
            "True Tags:      [0, 0, 1, 9, 1, 2, 3, 10, 8, 0, 1, 0, 5, 2, 3, 4]\n",
            "\n",
            "Sample 4:\n",
            "Predicted Tags: [0, 1, 0, 1, 1, 0, 0, 5, 1, 2, 3, 3, 4]\n",
            "True Tags:      [0, 1, 0, 1, 1, 12, 0, 5, 1, 2, 3, 3, 4]\n",
            "\n",
            "Sample 5:\n",
            "Predicted Tags: [0, 1, 0, 1, 0, 1, 0, 1, 0, 1, 2, 3, 4]\n",
            "True Tags:      [0, 1, 0, 1, 0, 1, 0, 1, 2, 1, 2, 3, 4]\n",
            "\n",
            "Sample 6:\n",
            "Predicted Tags: [0, 1, 0, 1, 2, 3, 4]\n",
            "True Tags:      [0, 1, 0, 1, 13, 13, 4]\n",
            "\n",
            "Sample 7:\n",
            "Predicted Tags: [11, 1, 2, 10, 11, 1, 0, 1, 0, 1, 0, 1, 2, 1, 2, 3, 4]\n",
            "True Tags:      [11, 1, 12, 10, 11, 1, 0, 1, 0, 1, 0, 1, 2, 1, 2, 3, 4]\n",
            "\n",
            "Sample 8:\n",
            "Predicted Tags: [9, 3, 3, 13, 0, 1, 1, 2, 3, 1, 10, 0, 0, 0, 1, 0, 0, 1, 2, 1, 4, 0, 1, 1, 10, 0, 1, 0, 1, 2, 1, 10, 0, 1, 9, 3, 2, 3, 4, 4]\n",
            "True Tags:      [12, 3, 3, 13, 1, 1, 1, 2, 3, 1, 10, 0, 0, 0, 1, 0, 0, 1, 2, 1, 4, 0, 1, 1, 10, 0, 1, 0, 1, 2, 1, 10, 0, 1, 9, 3, 2, 3, 4, 4]\n",
            "\n",
            "Sample 9:\n",
            "Predicted Tags: [0, 1, 2, 1, 1, 0, 1, 0, 2, 1, 2, 4]\n",
            "True Tags:      [0, 1, 2, 1, 1, 0, 1, 13, 2, 1, 2, 4]\n",
            "\n",
            "Sample 10:\n",
            "Predicted Tags: [7, 0, 2, 1, 2, 3, 1, 1, 0, 3]\n",
            "True Tags:      [7, 0, 2, 1, 2, 3, 1, 1, 0, 3]\n",
            "\n"
          ]
        }
      ]
    },
    {
      "cell_type": "code",
      "source": [
        "# overall accuracy\n",
        "correct = 0\n",
        "total = 0\n",
        "\n",
        "for pred, true in test_results:\n",
        "    correct += sum([p == t for p, t in zip(pred, true)])\n",
        "    total += len(true)\n",
        "\n",
        "accuracy = correct / total\n",
        "print(f\"Overall Accuracy: {accuracy:.4%}\")\n"
      ],
      "metadata": {
        "id": "h9HE2xcZw98i",
        "outputId": "78674b1e-ce46-4c9b-ecda-945cfdfd4f77",
        "colab": {
          "base_uri": "https://localhost:8080/"
        }
      },
      "execution_count": null,
      "outputs": [
        {
          "output_type": "stream",
          "name": "stdout",
          "text": [
            "Overall Accuracy: 98.2331%\n"
          ]
        }
      ]
    },
    {
      "cell_type": "code",
      "source": [
        "# Per-Class Metrics\n",
        "from sklearn.metrics import classification_report\n",
        "\n",
        "all_preds = []\n",
        "all_trues = []\n",
        "\n",
        "for pred, true in test_results:\n",
        "    all_preds.extend(pred)\n",
        "    all_trues.extend(true)\n",
        "\n",
        "print(\"Classification Report:\")\n",
        "print(classification_report(all_trues, all_preds, zero_division=0))\n"
      ],
      "metadata": {
        "id": "Aoiv4O2JxPEP",
        "outputId": "c20d70e6-696b-4174-f630-7b04984eceab",
        "colab": {
          "base_uri": "https://localhost:8080/"
        }
      },
      "execution_count": null,
      "outputs": [
        {
          "output_type": "stream",
          "name": "stdout",
          "text": [
            "Classification Report:\n",
            "              precision    recall  f1-score   support\n",
            "\n",
            "           0       0.97      0.99      0.98      4216\n",
            "           1       0.99      1.00      0.99      3556\n",
            "           2       0.98      0.97      0.97      1593\n",
            "           3       0.99      0.97      0.98      1095\n",
            "           4       1.00      1.00      1.00      1225\n",
            "           5       0.96      0.96      0.96       397\n",
            "           6       0.99      0.98      0.98        85\n",
            "           7       1.00      1.00      1.00        35\n",
            "           8       0.96      0.98      0.97       123\n",
            "           9       0.98      0.86      0.91       148\n",
            "          10       0.99      0.94      0.96       143\n",
            "          11       1.00      0.96      0.98        95\n",
            "          12       0.96      0.89      0.92       166\n",
            "          13       0.92      0.91      0.92       195\n",
            "          14       0.00      0.00      0.00         2\n",
            "\n",
            "    accuracy                           0.98     13074\n",
            "   macro avg       0.91      0.89      0.90     13074\n",
            "weighted avg       0.98      0.98      0.98     13074\n",
            "\n"
          ]
        }
      ]
    },
    {
      "cell_type": "code",
      "source": [
        "# sentence-level accuracy\n",
        "correct_sentences = 0\n",
        "total_sentences = len(test_results)\n",
        "\n",
        "for pred, true in test_results:\n",
        "    if pred == true:\n",
        "        correct_sentences += 1\n",
        "\n",
        "sentence_accuracy = correct_sentences / total_sentences\n",
        "print(f\"Sentence-Level Accuracy: {sentence_accuracy:.4%}\")\n"
      ],
      "metadata": {
        "id": "jVTfASGgxYKE",
        "outputId": "9908016e-0f78-4891-db5f-4f3c4961fcb0",
        "colab": {
          "base_uri": "https://localhost:8080/"
        }
      },
      "execution_count": null,
      "outputs": [
        {
          "output_type": "stream",
          "name": "stdout",
          "text": [
            "Sentence-Level Accuracy: 70.8042%\n"
          ]
        }
      ]
    },
    {
      "cell_type": "code",
      "source": [
        "from sklearn.metrics import precision_recall_fscore_support\n",
        "\n",
        "# Macro & Micro\n",
        "macro_metrics = precision_recall_fscore_support(all_trues, all_preds, average=\"macro\", zero_division=0)\n",
        "micro_metrics = precision_recall_fscore_support(all_trues, all_preds, average=\"micro\", zero_division=0)\n",
        "\n",
        "print(f\"Macro Precision: {macro_metrics[0]:.4f}, Recall: {macro_metrics[1]:.4f}, F1-Score: {macro_metrics[2]:.4f}\")\n",
        "print(f\"Micro Precision: {micro_metrics[0]:.4f}, Recall: {micro_metrics[1]:.4f}, F1-Score: {micro_metrics[2]:.4f}\")\n"
      ],
      "metadata": {
        "id": "mVfjruCGxhUe",
        "outputId": "9c3f6ed3-829f-41ae-90c9-c77140531c68",
        "colab": {
          "base_uri": "https://localhost:8080/"
        }
      },
      "execution_count": null,
      "outputs": [
        {
          "output_type": "stream",
          "name": "stdout",
          "text": [
            "Macro Precision: 0.9130, Recall: 0.8933, F1-Score: 0.9027\n",
            "Micro Precision: 0.9823, Recall: 0.9823, F1-Score: 0.9823\n"
          ]
        }
      ]
    },
    {
      "cell_type": "code",
      "source": [
        "from sklearn.metrics import confusion_matrix\n",
        "import seaborn as sns\n",
        "import matplotlib.pyplot as plt\n",
        "\n",
        "# confusion matrix\n",
        "conf_matrix = confusion_matrix(all_trues, all_preds)\n",
        "\n",
        "plt.figure(figsize=(10, 8))\n",
        "sns.heatmap(conf_matrix, annot=True, fmt=\"d\", cmap=\"Blues\")\n",
        "plt.xlabel(\"Predicted Tags\")\n",
        "plt.ylabel(\"True Tags\")\n",
        "plt.title(\"Confusion Matrix\")\n",
        "plt.show()\n"
      ],
      "metadata": {
        "id": "V1P_3r9nximw",
        "outputId": "5ccd3e5e-e84e-4662-e5af-c3b211d6a7d4",
        "colab": {
          "base_uri": "https://localhost:8080/",
          "height": 739
        }
      },
      "execution_count": null,
      "outputs": [
        {
          "output_type": "display_data",
          "data": {
            "text/plain": [
              "<Figure size 1000x800 with 2 Axes>"
            ],
            "image/png": "[encoded data removed]"
          },
          "metadata": {}
        }
      ]
    },
    {
      "cell_type": "markdown",
      "source": [
        "建议指标选择\n",
        "\n",
        "初步评估：优先使用整体准确率 (Overall Accuracy) 和分类报告 (Per-Class Metrics)。\n",
        "\n",
        "高精度任务：关注每类标签的 F1 分数，尤其是少见标签。\n",
        "\n",
        "高要求评估：使用句子级准确率 (Sentence-Level Accuracy)。\n",
        "\n",
        "错误分析：使用混淆矩阵 (Confusion Matrix) 查找错误分布。"
      ],
      "metadata": {
        "id": "9_fZnPtZxzvQ"
      }
    },
    {
      "cell_type": "code",
      "source": [
        "import pickle\n",
        "\n",
        "# save\n",
        "with open(\"test_results.pkl\", \"wb\") as f:\n",
        "    pickle.dump(test_results, f)\n",
        "\n",
        "print(\"test_results has been saved to test_results.pkl\")\n"
      ],
      "metadata": {
        "id": "o6OJFVFfx7Kq"
      },
      "execution_count": null,
      "outputs": []
    }
  ]
}