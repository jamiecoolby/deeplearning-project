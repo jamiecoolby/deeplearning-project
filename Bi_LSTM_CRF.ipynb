{
  "nbformat": 4,
  "nbformat_minor": 0,
  "metadata": {
    "colab": {
      "provenance": [],
      "toc_visible": true
    },
    "kernelspec": {
      "name": "python3",
      "display_name": "Python 3"
    },
    "language_info": {
      "name": "python"
    }
  },
  "cells": [
    {
      "cell_type": "markdown",
      "source": [
        "# Model"
      ],
      "metadata": {
        "id": "mxWnhc6KyTz5"
      }
    },
    {
      "cell_type": "code",
      "execution_count": null,
      "metadata": {
        "colab": {
          "base_uri": "https://localhost:8080/"
        },
        "id": "0wAqMmUnvcwm",
        "outputId": "483cbd4c-ece0-432c-f5b2-ecebe90bb742"
      },
      "outputs": [
        {
          "output_type": "execute_result",
          "data": {
            "text/plain": [
              "<torch._C.Generator at 0x7c3833443070>"
            ]
          },
          "metadata": {},
          "execution_count": 1
        }
      ],
      "source": [
        "import torch\n",
        "import torch.autograd as autograd\n",
        "import torch.nn as nn\n",
        "import torch.optim as optim\n",
        "\n",
        "torch.manual_seed(1)"
      ]
    },
    {
      "cell_type": "code",
      "source": [
        "def argmax(vec):\n",
        "    # return the argmax as a python int\n",
        "    _, idx = torch.max(vec, 1)\n",
        "    return idx.item()\n",
        "\n",
        "\n",
        "def prepare_sequence(seq, to_ix):\n",
        "    idxs = [to_ix[w] for w in seq]\n",
        "    return torch.tensor(idxs, dtype=torch.long)\n",
        "\n",
        "\n",
        "# Compute log sum exp in a numerically stable way for the forward algorithm\n",
        "def log_sum_exp(vec):\n",
        "    max_score = vec[0, argmax(vec)]\n",
        "    max_score_broadcast = max_score.view(1, -1).expand(1, vec.size()[1])\n",
        "    return max_score + \\\n",
        "        torch.log(torch.sum(torch.exp(vec - max_score_broadcast)))"
      ],
      "metadata": {
        "id": "wxqezXQQvnHh"
      },
      "execution_count": null,
      "outputs": []
    },
    {
      "cell_type": "code",
      "source": [
        "class BiLSTM_CRF(nn.Module):\n",
        "\n",
        "    def __init__(self, vocab_size, tag_to_ix, embedding_dim, hidden_dim):\n",
        "        super(BiLSTM_CRF, self).__init__()\n",
        "        self.embedding_dim = embedding_dim\n",
        "        self.hidden_dim = hidden_dim\n",
        "        self.vocab_size = vocab_size\n",
        "        self.tag_to_ix = tag_to_ix\n",
        "        self.tagset_size = len(tag_to_ix)\n",
        "\n",
        "        self.word_embeds = nn.Embedding(vocab_size, embedding_dim)\n",
        "        self.lstm = nn.LSTM(embedding_dim, hidden_dim // 2,\n",
        "                            num_layers=1, bidirectional=True)\n",
        "\n",
        "        # Maps the output of the LSTM into tag space.\n",
        "        self.hidden2tag = nn.Linear(hidden_dim, self.tagset_size)\n",
        "\n",
        "        # Matrix of transition parameters.  Entry i,j is the score of\n",
        "        # transitioning *to* i *from* j.\n",
        "        self.transitions = nn.Parameter(\n",
        "            torch.randn(self.tagset_size, self.tagset_size))\n",
        "\n",
        "        # These two statements enforce the constraint that we never transfer\n",
        "        # to the start tag and we never transfer from the stop tag\n",
        "        self.transitions.data[tag_to_ix[START_TAG], :] = -10000\n",
        "        self.transitions.data[:, tag_to_ix[STOP_TAG]] = -10000\n",
        "\n",
        "        self.hidden = self.init_hidden()\n",
        "\n",
        "    def init_hidden(self):\n",
        "        return (torch.randn(2, 1, self.hidden_dim // 2),\n",
        "                torch.randn(2, 1, self.hidden_dim // 2))\n",
        "\n",
        "    def _forward_alg(self, feats):\n",
        "        # Do the forward algorithm to compute the partition function\n",
        "        init_alphas = torch.full((1, self.tagset_size), -10000.)\n",
        "        # START_TAG has all of the score.\n",
        "        init_alphas[0][self.tag_to_ix[START_TAG]] = 0.\n",
        "\n",
        "        # Wrap in a variable so that we will get automatic backprop\n",
        "        forward_var = init_alphas\n",
        "\n",
        "        # Iterate through the sentence\n",
        "        for feat in feats:\n",
        "            alphas_t = []  # The forward tensors at this timestep\n",
        "            for next_tag in range(self.tagset_size):\n",
        "                # broadcast the emission score: it is the same regardless of\n",
        "                # the previous tag\n",
        "                emit_score = feat[next_tag].view(\n",
        "                    1, -1).expand(1, self.tagset_size)\n",
        "                # the ith entry of trans_score is the score of transitioning to\n",
        "                # next_tag from i\n",
        "                trans_score = self.transitions[next_tag].view(1, -1)\n",
        "                # The ith entry of next_tag_var is the value for the\n",
        "                # edge (i -> next_tag) before we do log-sum-exp\n",
        "                next_tag_var = forward_var + trans_score + emit_score\n",
        "                # The forward variable for this tag is log-sum-exp of all the\n",
        "                # scores.\n",
        "                alphas_t.append(log_sum_exp(next_tag_var).view(1))\n",
        "            forward_var = torch.cat(alphas_t).view(1, -1)\n",
        "        terminal_var = forward_var + self.transitions[self.tag_to_ix[STOP_TAG]]\n",
        "        alpha = log_sum_exp(terminal_var)\n",
        "        return alpha\n",
        "\n",
        "    def _get_lstm_features(self, sentence):\n",
        "        self.hidden = self.init_hidden()\n",
        "        embeds = self.word_embeds(sentence).view(len(sentence), 1, -1)\n",
        "        lstm_out, self.hidden = self.lstm(embeds, self.hidden)\n",
        "        lstm_out = lstm_out.view(len(sentence), self.hidden_dim)\n",
        "        lstm_feats = self.hidden2tag(lstm_out)\n",
        "        return lstm_feats\n",
        "\n",
        "    def _score_sentence(self, feats, tags):\n",
        "        # Gives the score of a provided tag sequence\n",
        "        score = torch.zeros(1)\n",
        "        tags = torch.cat([torch.tensor([self.tag_to_ix[START_TAG]], dtype=torch.long), tags])\n",
        "        for i, feat in enumerate(feats):\n",
        "            score = score + \\\n",
        "                self.transitions[tags[i + 1], tags[i]] + feat[tags[i + 1]]\n",
        "        score = score + self.transitions[self.tag_to_ix[STOP_TAG], tags[-1]]\n",
        "        return score\n",
        "\n",
        "    def _viterbi_decode(self, feats):\n",
        "        backpointers = []\n",
        "\n",
        "        # Initialize the viterbi variables in log space\n",
        "        init_vvars = torch.full((1, self.tagset_size), -10000.)\n",
        "        init_vvars[0][self.tag_to_ix[START_TAG]] = 0\n",
        "\n",
        "        # forward_var at step i holds the viterbi variables for step i-1\n",
        "        forward_var = init_vvars\n",
        "        for feat in feats:\n",
        "            bptrs_t = []  # holds the backpointers for this step\n",
        "            viterbivars_t = []  # holds the viterbi variables for this step\n",
        "\n",
        "            for next_tag in range(self.tagset_size):\n",
        "                # next_tag_var[i] holds the viterbi variable for tag i at the\n",
        "                # previous step, plus the score of transitioning\n",
        "                # from tag i to next_tag.\n",
        "                # We don't include the emission scores here because the max\n",
        "                # does not depend on them (we add them in below)\n",
        "                next_tag_var = forward_var + self.transitions[next_tag]\n",
        "                best_tag_id = argmax(next_tag_var)\n",
        "                bptrs_t.append(best_tag_id)\n",
        "                viterbivars_t.append(next_tag_var[0][best_tag_id].view(1))\n",
        "            # Now add in the emission scores, and assign forward_var to the set\n",
        "            # of viterbi variables we just computed\n",
        "            forward_var = (torch.cat(viterbivars_t) + feat).view(1, -1)\n",
        "            backpointers.append(bptrs_t)\n",
        "\n",
        "        # Transition to STOP_TAG\n",
        "        terminal_var = forward_var + self.transitions[self.tag_to_ix[STOP_TAG]]\n",
        "        best_tag_id = argmax(terminal_var)\n",
        "        path_score = terminal_var[0][best_tag_id]\n",
        "\n",
        "        # Follow the back pointers to decode the best path.\n",
        "        best_path = [best_tag_id]\n",
        "        for bptrs_t in reversed(backpointers):\n",
        "            best_tag_id = bptrs_t[best_tag_id]\n",
        "            best_path.append(best_tag_id)\n",
        "        # Pop off the start tag (we dont want to return that to the caller)\n",
        "        start = best_path.pop()\n",
        "        assert start == self.tag_to_ix[START_TAG]  # Sanity check\n",
        "        best_path.reverse()\n",
        "        return path_score, best_path\n",
        "\n",
        "    def neg_log_likelihood(self, sentence, tags):\n",
        "        feats = self._get_lstm_features(sentence)\n",
        "        forward_score = self._forward_alg(feats)\n",
        "        gold_score = self._score_sentence(feats, tags)\n",
        "        return forward_score - gold_score\n",
        "\n",
        "    def forward(self, sentence):  # dont confuse this with _forward_alg above.\n",
        "        # Get the emission scores from the BiLSTM\n",
        "        lstm_feats = self._get_lstm_features(sentence)\n",
        "\n",
        "        # Find the best path, given the features.\n",
        "        score, tag_seq = self._viterbi_decode(lstm_feats)\n",
        "        return score, tag_seq"
      ],
      "metadata": {
        "id": "dVsIyo2Uvn1c"
      },
      "execution_count": null,
      "outputs": []
    },
    {
      "cell_type": "markdown",
      "source": [
        "# Data"
      ],
      "metadata": {
        "id": "jljVFej1yW5n"
      }
    },
    {
      "cell_type": "code",
      "source": [
        "import json\n",
        "\n",
        "def load_data_from_json(json_data):\n",
        "    processed_data = []\n",
        "    for item in json_data:\n",
        "        sentence = item[\"sentence\"]\n",
        "        tokens = [token[\"word\"] for token in item[\"tokens\"]]\n",
        "        tags = [token[\"pos\"] for token in item[\"tokens\"]]\n",
        "        processed_data.append((tokens, tags))\n",
        "    return processed_data\n",
        "\n",
        "with open(\"output-train.json\", \"r\", encoding=\"utf-8\") as f:\n",
        "    train_json = json.load(f)\n",
        "\n",
        "with open(\"output-val.json\", \"r\", encoding=\"utf-8\") as f:\n",
        "    val_json = json.load(f)\n",
        "\n",
        "with open(\"output-test.json\", \"r\", encoding=\"utf-8\") as f:\n",
        "    test_json = json.load(f)\n",
        "\n",
        "train_data = load_data_from_json(train_json)\n",
        "val_data = load_data_from_json(val_json)\n",
        "test_data = load_data_from_json(test_json)"
      ],
      "metadata": {
        "id": "4kb6tf7s-OGt"
      },
      "execution_count": null,
      "outputs": []
    },
    {
      "cell_type": "code",
      "source": [
        "word_to_ix = {}\n",
        "tag_to_ix = {}\n",
        "\n",
        "for sentence, tags in train_data + val_data + test_data:\n",
        "    for word in sentence:\n",
        "        if word not in word_to_ix:\n",
        "            word_to_ix[word] = len(word_to_ix)\n",
        "    for tag in tags:\n",
        "        if tag not in tag_to_ix:\n",
        "            tag_to_ix[tag] = len(tag_to_ix)\n",
        "\n",
        "START_TAG = \"<START>\"\n",
        "STOP_TAG = \"<STOP>\"\n",
        "tag_to_ix[START_TAG] = len(tag_to_ix)\n",
        "tag_to_ix[STOP_TAG] = len(tag_to_ix)\n",
        "\n",
        "word_to_ix[\"<UNK>\"] = len(word_to_ix)\n"
      ],
      "metadata": {
        "id": "zZ6jpl6qBDlC"
      },
      "execution_count": null,
      "outputs": []
    },
    {
      "cell_type": "markdown",
      "source": [
        "# Train"
      ],
      "metadata": {
        "id": "M62Vr3SeyZCz"
      }
    },
    {
      "cell_type": "code",
      "source": [
        "import matplotlib.pyplot as plt\n",
        "from tqdm import tqdm\n",
        "import time\n",
        "\n",
        "EMBEDDING_DIM = 5 ### 可调\n",
        "HIDDEN_DIM = 4 ### 可调\n",
        "\n",
        "model = BiLSTM_CRF(len(word_to_ix), tag_to_ix, EMBEDDING_DIM, HIDDEN_DIM)\n",
        "optimizer = optim.SGD(model.parameters(), lr=0.01, weight_decay=1e-4) ### 可调\n",
        "\n",
        "epochs = 10 ### 可调\n",
        "train_losses = []\n",
        "val_losses = []\n",
        "\n",
        "start_time = time.time()\n",
        "\n",
        "for epoch in range(epochs):\n",
        "    print(f\"Epoch {epoch + 1}/{epochs}\")\n",
        "\n",
        "    model.train()\n",
        "    total_train_loss = 0\n",
        "    for sentence, tags in tqdm(train_data, desc=\"Training\"):\n",
        "        model.zero_grad()\n",
        "        sentence_in = prepare_sequence(sentence, word_to_ix)\n",
        "        targets = torch.tensor([tag_to_ix[t] for t in tags], dtype=torch.long)\n",
        "\n",
        "        loss = model.neg_log_likelihood(sentence_in, targets)\n",
        "        total_train_loss += loss.item()\n",
        "        loss.backward()\n",
        "        optimizer.step()\n",
        "\n",
        "    avg_train_loss = total_train_loss / len(train_data)\n",
        "    train_losses.append(avg_train_loss)\n",
        "\n",
        "    model.eval()\n",
        "    total_val_loss = 0\n",
        "    with torch.no_grad():\n",
        "        for sentence, tags in tqdm(val_data, desc=\"Validating\"):\n",
        "            sentence_in = prepare_sequence(sentence, word_to_ix)\n",
        "            targets = torch.tensor([tag_to_ix[t] for t in tags], dtype=torch.long)\n",
        "\n",
        "            val_loss = model.neg_log_likelihood(sentence_in, targets)\n",
        "            total_val_loss += val_loss.item()\n",
        "\n",
        "    avg_val_loss = total_val_loss / len(val_data)\n",
        "    val_losses.append(avg_val_loss)\n",
        "\n",
        "    print(f\"Epoch {epoch + 1}/{epochs} - Training Loss: {avg_train_loss:.4f}, Validation Loss: {avg_val_loss:.4f}\")\n",
        "\n",
        "end_time = time.time()\n",
        "total_time = end_time - start_time\n",
        "print(f\"Total Training Time: {total_time:.2f} seconds\")\n",
        "\n",
        "plt.figure(figsize=(10, 6))\n",
        "plt.plot(range(1, epochs + 1), train_losses, label=\"Training Loss\")\n",
        "plt.plot(range(1, epochs + 1), val_losses, label=\"Validation Loss\")\n",
        "plt.xlabel(\"Epoch\")\n",
        "plt.ylabel(\"Loss\")\n",
        "plt.title(\"Training and Validation Loss Over Epochs\")\n",
        "plt.legend()\n",
        "\n",
        "plt.grid()\n",
        "plt.show()\n"
      ],
      "metadata": {
        "colab": {
          "base_uri": "https://localhost:8080/",
          "height": 1000
        },
        "id": "kaZkOndlUkVR",
        "outputId": "dff8cf80-c181-4288-f06a-426b50b027a4"
      },
      "execution_count": null,
      "outputs": [
        {
          "metadata": {
            "tags": null
          },
          "name": "stdout",
          "output_type": "stream",
          "text": [
            "Epoch 1/10\n"
          ]
        },
        {
          "metadata": {
            "tags": null
          },
          "name": "stderr",
          "output_type": "stream",
          "text": [
            "Training: 100%|██████████| 7481/7481 [11:20<00:00, 10.99it/s]\n",
            "Validating: 100%|██████████| 538/538 [00:12<00:00, 42.02it/s]\n"
          ]
        },
        {
          "metadata": {
            "tags": null
          },
          "name": "stdout",
          "output_type": "stream",
          "text": [
            "Epoch 1/10 - Training Loss: 17.5174, Validation Loss: 12.3589\n",
            "Epoch 2/10\n"
          ]
        },
        {
          "metadata": {
            "tags": null
          },
          "name": "stderr",
          "output_type": "stream",
          "text": [
            "Training: 100%|██████████| 7481/7481 [11:52<00:00, 10.50it/s]\n",
            "Validating: 100%|██████████| 538/538 [00:13<00:00, 39.28it/s]\n"
          ]
        },
        {
          "metadata": {
            "tags": null
          },
          "name": "stdout",
          "output_type": "stream",
          "text": [
            "Epoch 2/10 - Training Loss: 10.9096, Validation Loss: 10.5416\n",
            "Epoch 3/10\n"
          ]
        },
        {
          "metadata": {
            "tags": null
          },
          "name": "stderr",
          "output_type": "stream",
          "text": [
            "Training: 100%|██████████| 7481/7481 [12:17<00:00, 10.15it/s]\n",
            "Validating: 100%|██████████| 538/538 [00:14<00:00, 38.30it/s]\n"
          ]
        },
        {
          "metadata": {
            "tags": null
          },
          "name": "stdout",
          "output_type": "stream",
          "text": [
            "Epoch 3/10 - Training Loss: 9.6548, Validation Loss: 9.8033\n",
            "Epoch 4/10\n"
          ]
        },
        {
          "metadata": {
            "tags": null
          },
          "name": "stderr",
          "output_type": "stream",
          "text": [
            "Training: 100%|██████████| 7481/7481 [11:59<00:00, 10.39it/s]\n",
            "Validating: 100%|██████████| 538/538 [00:13<00:00, 39.28it/s]\n"
          ]
        },
        {
          "metadata": {
            "tags": null
          },
          "name": "stdout",
          "output_type": "stream",
          "text": [
            "Epoch 4/10 - Training Loss: 8.9446, Validation Loss: 9.2232\n",
            "Epoch 5/10\n"
          ]
        },
        {
          "metadata": {
            "tags": null
          },
          "name": "stderr",
          "output_type": "stream",
          "text": [
            "Training: 100%|██████████| 7481/7481 [12:21<00:00, 10.08it/s]\n",
            "Validating: 100%|██████████| 538/538 [00:13<00:00, 40.18it/s]\n"
          ]
        },
        {
          "metadata": {
            "tags": null
          },
          "name": "stdout",
          "output_type": "stream",
          "text": [
            "Epoch 5/10 - Training Loss: 8.4164, Validation Loss: 8.8124\n",
            "Epoch 6/10\n"
          ]
        },
        {
          "metadata": {
            "tags": null
          },
          "name": "stderr",
          "output_type": "stream",
          "text": [
            "Training: 100%|██████████| 7481/7481 [12:05<00:00, 10.31it/s]\n",
            "Validating: 100%|██████████| 538/538 [00:12<00:00, 41.51it/s]\n"
          ]
        },
        {
          "metadata": {
            "tags": null
          },
          "name": "stdout",
          "output_type": "stream",
          "text": [
            "Epoch 6/10 - Training Loss: 7.9429, Validation Loss: 8.4645\n",
            "Epoch 7/10\n"
          ]
        },
        {
          "output_type": "stream",
          "name": "stderr",
          "text": [
            "Training: 100%|██████████| 7481/7481 [11:48<00:00, 10.56it/s]\n",
            "Validating: 100%|██████████| 538/538 [00:15<00:00, 35.40it/s]\n"
          ]
        },
        {
          "output_type": "stream",
          "name": "stdout",
          "text": [
            "Epoch 7/10 - Training Loss: 7.5705, Validation Loss: 8.1781\n",
            "Epoch 8/10\n"
          ]
        },
        {
          "output_type": "stream",
          "name": "stderr",
          "text": [
            "Training: 100%|██████████| 7481/7481 [11:56<00:00, 10.44it/s]\n",
            "Validating: 100%|██████████| 538/538 [00:13<00:00, 39.22it/s]\n"
          ]
        },
        {
          "output_type": "stream",
          "name": "stdout",
          "text": [
            "Epoch 8/10 - Training Loss: 7.2392, Validation Loss: 7.9563\n",
            "Epoch 9/10\n"
          ]
        },
        {
          "output_type": "stream",
          "name": "stderr",
          "text": [
            "Training: 100%|██████████| 7481/7481 [12:08<00:00, 10.26it/s]\n",
            "Validating: 100%|██████████| 538/538 [00:14<00:00, 37.94it/s]\n"
          ]
        },
        {
          "output_type": "stream",
          "name": "stdout",
          "text": [
            "Epoch 9/10 - Training Loss: 6.9113, Validation Loss: 7.6933\n",
            "Epoch 10/10\n"
          ]
        },
        {
          "output_type": "stream",
          "name": "stderr",
          "text": [
            "Training: 100%|██████████| 7481/7481 [12:42<00:00,  9.80it/s]\n",
            "Validating: 100%|██████████| 538/538 [00:14<00:00, 37.83it/s]\n"
          ]
        },
        {
          "output_type": "stream",
          "name": "stdout",
          "text": [
            "Epoch 10/10 - Training Loss: 6.5869, Validation Loss: 7.5015\n",
            "Total Training Time: 7371.68 seconds\n"
          ]
        },
        {
          "output_type": "display_data",
          "data": {
            "text/plain": [
              "<Figure size 1000x600 with 1 Axes>"
            ],
            "image/png": "[encoded data removed]"
          },
          "metadata": {}
        }
      ]
    },
    {
      "cell_type": "markdown",
      "source": [
        "# Evaluate"
      ],
      "metadata": {
        "id": "22YAHhRZycO1"
      }
    },
    {
      "cell_type": "code",
      "source": [
        "model.eval()\n",
        "test_results = []\n",
        "with torch.no_grad():\n",
        "    for sentence, tags in test_data:\n",
        "        sentence_in = prepare_sequence(sentence, word_to_ix)\n",
        "        targets = torch.tensor([tag_to_ix[t] for t in tags], dtype=torch.long)\n",
        "\n",
        "        _, predictions = model(sentence_in)\n",
        "\n",
        "        test_results.append((predictions, targets.tolist()))\n",
        "\n",
        "for i, (pred, true) in enumerate(test_results[:10]):\n",
        "    print(f\"Sample {i + 1}:\")\n",
        "    print(f\"Predicted Tags: {pred}\")\n",
        "    print(f\"True Tags:      {true}\")\n",
        "    print()\n"
      ],
      "metadata": {
        "colab": {
          "base_uri": "https://localhost:8080/"
        },
        "id": "AZRIPTXiHoAw",
        "outputId": "0fa987fe-b396-4bdf-c7d0-979a53d849ee"
      },
      "execution_count": null,
      "outputs": [
        {
          "output_type": "stream",
          "name": "stdout",
          "text": [
            "Sample 1:\n",
            "Predicted Tags: [11, 1, 0, 0, 1, 2, 0, 1, 2, 3, 3, 1, 10, 0, 10, 0, 1, 0, 1, 0, 1, 0, 1, 2, 1, 2, 0, 1, 2, 3, 9, 3, 4]\n",
            "True Tags:      [11, 1, 0, 0, 1, 2, 0, 1, 2, 3, 3, 1, 10, 0, 10, 2, 1, 0, 1, 0, 1, 0, 1, 2, 1, 2, 0, 1, 2, 3, 9, 3, 4]\n",
            "\n",
            "Sample 2:\n",
            "Predicted Tags: [0, 1, 0, 0, 1, 1, 10, 12, 0, 2, 1, 2, 1, 2, 0, 1, 2, 1, 2, 3, 3, 4]\n",
            "True Tags:      [0, 1, 0, 0, 1, 1, 10, 12, 12, 2, 1, 13, 1, 2, 0, 1, 2, 1, 2, 3, 3, 4]\n",
            "\n",
            "Sample 3:\n",
            "Predicted Tags: [0, 0, 1, 0, 1, 2, 3, 10, 8, 0, 1, 0, 0, 2, 3, 4]\n",
            "True Tags:      [0, 0, 1, 9, 1, 2, 3, 10, 8, 0, 1, 0, 5, 2, 3, 4]\n",
            "\n",
            "Sample 4:\n",
            "Predicted Tags: [0, 1, 0, 1, 1, 4, 0, 5, 1, 2, 3, 3, 4]\n",
            "True Tags:      [0, 1, 0, 1, 1, 12, 0, 5, 1, 2, 3, 3, 4]\n",
            "\n",
            "Sample 5:\n",
            "Predicted Tags: [0, 1, 0, 1, 0, 1, 0, 1, 0, 1, 2, 3, 4]\n",
            "True Tags:      [0, 1, 0, 1, 0, 1, 0, 1, 2, 1, 2, 3, 4]\n",
            "\n",
            "Sample 6:\n",
            "Predicted Tags: [0, 1, 0, 1, 0, 5, 4]\n",
            "True Tags:      [0, 1, 0, 1, 13, 13, 4]\n",
            "\n",
            "Sample 7:\n",
            "Predicted Tags: [11, 1, 0, 10, 11, 1, 0, 1, 0, 1, 0, 1, 2, 1, 2, 3, 4]\n",
            "True Tags:      [11, 1, 12, 10, 11, 1, 0, 1, 0, 1, 0, 1, 2, 1, 2, 3, 4]\n",
            "\n",
            "Sample 8:\n",
            "Predicted Tags: [0, 3, 2, 3, 0, 1, 1, 2, 3, 1, 10, 0, 0, 0, 1, 0, 0, 1, 2, 1, 4, 0, 1, 1, 10, 0, 1, 0, 1, 2, 1, 10, 0, 1, 9, 3, 2, 3, 4, 4]\n",
            "True Tags:      [12, 3, 3, 13, 1, 1, 1, 2, 3, 1, 10, 0, 0, 0, 1, 0, 0, 1, 2, 1, 4, 0, 1, 1, 10, 0, 1, 0, 1, 2, 1, 10, 0, 1, 9, 3, 2, 3, 4, 4]\n",
            "\n",
            "Sample 9:\n",
            "Predicted Tags: [0, 1, 2, 1, 1, 0, 1, 0, 2, 1, 2, 4]\n",
            "True Tags:      [0, 1, 2, 1, 1, 0, 1, 13, 2, 1, 2, 4]\n",
            "\n",
            "Sample 10:\n",
            "Predicted Tags: [7, 0, 2, 1, 2, 3, 1, 1, 9, 3]\n",
            "True Tags:      [7, 0, 2, 1, 2, 3, 1, 1, 0, 3]\n",
            "\n"
          ]
        }
      ]
    },
    {
      "cell_type": "code",
      "source": [
        "# overall accuracy\n",
        "correct = 0\n",
        "total = 0\n",
        "\n",
        "for pred, true in test_results:\n",
        "    correct += sum([p == t for p, t in zip(pred, true)])\n",
        "    total += len(true)\n",
        "\n",
        "accuracy = correct / total\n",
        "print(f\"Overall Accuracy: {accuracy:.4%}\")\n"
      ],
      "metadata": {
        "colab": {
          "base_uri": "https://localhost:8080/"
        },
        "id": "h9HE2xcZw98i",
        "outputId": "1fb0dad2-4854-4a2a-f2a1-1c2dc504d851"
      },
      "execution_count": null,
      "outputs": [
        {
          "output_type": "stream",
          "name": "stdout",
          "text": [
            "Overall Accuracy: 89.7659%\n"
          ]
        }
      ]
    },
    {
      "cell_type": "code",
      "source": [
        "# Per-Class Metrics\n",
        "from sklearn.metrics import classification_report\n",
        "\n",
        "all_preds = []\n",
        "all_trues = []\n",
        "\n",
        "for pred, true in test_results:\n",
        "    all_preds.extend(pred)\n",
        "    all_trues.extend(true)\n",
        "\n",
        "print(\"Classification Report:\")\n",
        "print(classification_report(all_trues, all_preds, zero_division=0))\n"
      ],
      "metadata": {
        "colab": {
          "base_uri": "https://localhost:8080/"
        },
        "id": "Aoiv4O2JxPEP",
        "outputId": "0a672808-3ecd-4938-ca4c-6b11ed15fa2c"
      },
      "execution_count": null,
      "outputs": [
        {
          "output_type": "stream",
          "name": "stdout",
          "text": [
            "Classification Report:\n",
            "              precision    recall  f1-score   support\n",
            "\n",
            "           0       0.86      0.93      0.90      4216\n",
            "           1       0.96      0.98      0.97      3556\n",
            "           2       0.87      0.89      0.88      1593\n",
            "           3       0.94      0.86      0.90      1095\n",
            "           4       0.98      0.98      0.98      1225\n",
            "           5       0.66      0.87      0.75       397\n",
            "           6       0.87      0.73      0.79        85\n",
            "           7       0.81      0.60      0.69        35\n",
            "           8       0.68      0.48      0.56       123\n",
            "           9       0.71      0.28      0.40       148\n",
            "          10       0.95      0.85      0.90       143\n",
            "          11       0.79      0.48      0.60        95\n",
            "          12       0.80      0.02      0.05       166\n",
            "          13       0.61      0.22      0.32       195\n",
            "          14       0.00      0.00      0.00         2\n",
            "\n",
            "    accuracy                           0.90     13074\n",
            "   macro avg       0.77      0.61      0.65     13074\n",
            "weighted avg       0.89      0.90      0.89     13074\n",
            "\n"
          ]
        }
      ]
    },
    {
      "cell_type": "code",
      "source": [
        "# sentence-level accuracy\n",
        "correct_sentences = 0\n",
        "total_sentences = len(test_results)\n",
        "\n",
        "for pred, true in test_results:\n",
        "    if pred == true:\n",
        "        correct_sentences += 1\n",
        "\n",
        "sentence_accuracy = correct_sentences / total_sentences\n",
        "print(f\"Sentence-Level Accuracy: {sentence_accuracy:.4%}\")\n"
      ],
      "metadata": {
        "colab": {
          "base_uri": "https://localhost:8080/"
        },
        "id": "jVTfASGgxYKE",
        "outputId": "d53478f7-eb24-4db1-9ec3-358e6e4b4ad1"
      },
      "execution_count": null,
      "outputs": [
        {
          "output_type": "stream",
          "name": "stdout",
          "text": [
            "Sentence-Level Accuracy: 17.3077%\n"
          ]
        }
      ]
    },
    {
      "cell_type": "code",
      "source": [
        "from sklearn.metrics import precision_recall_fscore_support\n",
        "\n",
        "# Macro & Micro\n",
        "macro_metrics = precision_recall_fscore_support(all_trues, all_preds, average=\"macro\", zero_division=0)\n",
        "micro_metrics = precision_recall_fscore_support(all_trues, all_preds, average=\"micro\", zero_division=0)\n",
        "\n",
        "print(f\"Macro Precision: {macro_metrics[0]:.4f}, Recall: {macro_metrics[1]:.4f}, F1-Score: {macro_metrics[2]:.4f}\")\n",
        "print(f\"Micro Precision: {micro_metrics[0]:.4f}, Recall: {micro_metrics[1]:.4f}, F1-Score: {micro_metrics[2]:.4f}\")\n"
      ],
      "metadata": {
        "colab": {
          "base_uri": "https://localhost:8080/"
        },
        "id": "mVfjruCGxhUe",
        "outputId": "fdd869f7-fe7b-4a35-bcd3-66d628da2104"
      },
      "execution_count": null,
      "outputs": [
        {
          "output_type": "stream",
          "name": "stdout",
          "text": [
            "Macro Precision: 0.7670, Recall: 0.6124, F1-Score: 0.6467\n",
            "Micro Precision: 0.8977, Recall: 0.8977, F1-Score: 0.8977\n"
          ]
        }
      ]
    },
    {
      "cell_type": "code",
      "source": [
        "from sklearn.metrics import confusion_matrix\n",
        "import seaborn as sns\n",
        "import matplotlib.pyplot as plt\n",
        "\n",
        "# confusion matrix\n",
        "conf_matrix = confusion_matrix(all_trues, all_preds)\n",
        "\n",
        "plt.figure(figsize=(10, 8))\n",
        "sns.heatmap(conf_matrix, annot=True, fmt=\"d\", cmap=\"Blues\")\n",
        "plt.xlabel(\"Predicted Tags\")\n",
        "plt.ylabel(\"True Tags\")\n",
        "plt.title(\"Confusion Matrix\")\n",
        "plt.show()\n"
      ],
      "metadata": {
        "colab": {
          "base_uri": "https://localhost:8080/",
          "height": 718
        },
        "id": "V1P_3r9nximw",
        "outputId": "00799db3-f472-45b1-b829-79c2a34b24e1"
      },
      "execution_count": null,
      "outputs": [
        {
          "output_type": "display_data",
          "data": {
            "text/plain": [
              "<Figure size 1000x800 with 2 Axes>"
            ],
            "image/png": "[encoded data removed]"
          },
          "metadata": {}
        }
      ]
    },
    {
      "cell_type": "markdown",
      "source": [
        "建议指标选择\n",
        "\n",
        "初步评估：优先使用整体准确率 (Overall Accuracy) 和分类报告 (Per-Class Metrics)。\n",
        "\n",
        "高精度任务：关注每类标签的 F1 分数，尤其是少见标签。\n",
        "\n",
        "高要求评估：使用句子级准确率 (Sentence-Level Accuracy)。\n",
        "\n",
        "错误分析：使用混淆矩阵 (Confusion Matrix) 查找错误分布。"
      ],
      "metadata": {
        "id": "9_fZnPtZxzvQ"
      }
    },
    {
      "cell_type": "code",
      "source": [
        "import pickle\n",
        "\n",
        "# save\n",
        "with open(\"test_results.pkl\", \"wb\") as f:\n",
        "    pickle.dump(test_results, f)\n",
        "\n",
        "print(\"test_results has been saved to test_results.pkl\")\n"
      ],
      "metadata": {
        "colab": {
          "base_uri": "https://localhost:8080/"
        },
        "id": "o6OJFVFfx7Kq",
        "outputId": "4e84da23-6448-4600-83cc-b0521afe3231"
      },
      "execution_count": null,
      "outputs": [
        {
          "output_type": "stream",
          "name": "stdout",
          "text": [
            "test_results has been saved to test_results.pkl\n"
          ]
        }
      ]
    }
  ]
}